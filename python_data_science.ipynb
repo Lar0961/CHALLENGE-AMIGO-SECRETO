{
  "nbformat": 4,
  "nbformat_minor": 0,
  "metadata": {
    "colab": {
      "provenance": [],
      "toc_visible": true,
      "include_colab_link": true
    },
    "kernelspec": {
      "name": "python3",
      "display_name": "Python 3"
    },
    "language_info": {
      "name": "python"
    }
  },
  "cells": [
    {
      "cell_type": "markdown",
      "metadata": {
        "id": "view-in-github",
        "colab_type": "text"
      },
      "source": [
        "<a href=\"https://colab.research.google.com/github/Lar0961/CHALLENGE-AMIGO-SECRETO/blob/main/python_data_science.ipynb\" target=\"_parent\"><img src=\"https://colab.research.google.com/assets/colab-badge.svg\" alt=\"Open In Colab\"/></a>"
      ]
    },
    {
      "cell_type": "markdown",
      "source": [
        "# Python para Data Science\n",
        "\n",
        "Notebook para el curso de Python para Data Science publicado en la plataforma de [Alura Latam](https://www.aluracursos.com/)"
      ],
      "metadata": {
        "id": "lQx6Mmv0OJyT"
      }
    },
    {
      "cell_type": "markdown",
      "source": [
        "# Introducción a Python\n",
        "¡Vamos a conocer Python, nuestro ambiente de estudio, y también generaremos nuestro primer código en este lenguaje!"
      ],
      "metadata": {
        "id": "7SiB6JIpYKmY"
      }
    },
    {
      "cell_type": "markdown",
      "source": [
        "## Google Colaboratory\n",
        "\n",
        "Ya aprendimos qué es [Python](https://www.python.org/) y ahora aprenderemos a usar nuestra herramienta de ejecución [Google Colaboratory](https://colab.research.google.com/) para programar en un notebook interactivo.\n",
        "\n",
        "Vamos a probar algunas funciones de este ambiente."
      ],
      "metadata": {
        "id": "Yugfb3fCOYY9"
      }
    },
    {
      "cell_type": "code",
      "source": [
        "print('Hola Mundo')"
      ],
      "metadata": {
        "id": "GCuNLf9zodQ-",
        "outputId": "7ef344ca-cb4c-4f6d-edab-0be522390d1f",
        "colab": {
          "base_uri": "https://localhost:8080/"
        }
      },
      "execution_count": null,
      "outputs": [
        {
          "output_type": "stream",
          "name": "stdout",
          "text": [
            "Hola Mundo\n"
          ]
        }
      ]
    },
    {
      "cell_type": "markdown",
      "source": [
        " **`>>> Usa esta celda para mover <<<`**"
      ],
      "metadata": {
        "id": "2iUHQsJasJAk"
      }
    },
    {
      "cell_type": "markdown",
      "source": [
        "## ¡Hola mundo!\n",
        "\n",
        "Vamos a conocer un poco más de cerca nuestro notebook. Para ello ejecutaremos nuestro primer comando en Python: [`print()`](https://docs.python.org/3/library/functions.html#print)"
      ],
      "metadata": {
        "id": "aLSFP2V7XTfe"
      }
    },
    {
      "cell_type": "code",
      "source": [
        "print('\"Escuela de Datos Alura\"')"
      ],
      "metadata": {
        "id": "0qZX8_ZQBYyk",
        "outputId": "41bec8d7-8176-416a-e3a5-896708bdaa5d",
        "colab": {
          "base_uri": "https://localhost:8080/"
        }
      },
      "execution_count": null,
      "outputs": [
        {
          "output_type": "stream",
          "name": "stdout",
          "text": [
            "\"Escuela de Datos Alura\"\n"
          ]
        }
      ]
    },
    {
      "cell_type": "code",
      "source": [
        "print('Nombre: Rogelio')\n",
        "print('Apellido: Retamales')"
      ],
      "metadata": {
        "id": "GLMzF_AKBY7a",
        "outputId": "206bb1a5-387f-47da-b903-ff3b10846bb5",
        "colab": {
          "base_uri": "https://localhost:8080/"
        }
      },
      "execution_count": null,
      "outputs": [
        {
          "output_type": "stream",
          "name": "stdout",
          "text": [
            "Nombre: Rogelio\n",
            "Apellido: Retamales\n"
          ]
        }
      ]
    },
    {
      "cell_type": "code",
      "source": [
        "print('R')\n",
        "print('O')\n",
        "print('G')\n",
        "print('E')\n",
        "print('L')\n",
        "print('I')\n",
        "print('O')"
      ],
      "metadata": {
        "id": "qlTqNBOdq3_G",
        "outputId": "4101dd8b-13c9-4367-a511-42e4a8fcf96e",
        "colab": {
          "base_uri": "https://localhost:8080/"
        }
      },
      "execution_count": null,
      "outputs": [
        {
          "output_type": "stream",
          "name": "stdout",
          "text": [
            "R\n",
            "O\n",
            "G\n",
            "E\n",
            "L\n",
            "I\n",
            "O\n"
          ]
        }
      ]
    },
    {
      "cell_type": "code",
      "source": [
        "print(24,'Abril',2025)\n"
      ],
      "metadata": {
        "id": "8y7Qr_05sLXl",
        "outputId": "54e4fe83-94d5-46fc-a79d-2e556959306d",
        "colab": {
          "base_uri": "https://localhost:8080/"
        }
      },
      "execution_count": null,
      "outputs": [
        {
          "output_type": "stream",
          "name": "stdout",
          "text": [
            "24 Abril 2025\n"
          ]
        }
      ]
    },
    {
      "cell_type": "code",
      "source": [
        "print('Año actual:',2025)"
      ],
      "metadata": {
        "id": "lqGjjBUutYGY",
        "outputId": "bb3ebfbe-d255-4d1b-df07-5af1971d6abc",
        "colab": {
          "base_uri": "https://localhost:8080/"
        }
      },
      "execution_count": null,
      "outputs": [
        {
          "output_type": "stream",
          "name": "stdout",
          "text": [
            "Año actual: 2025\n"
          ]
        }
      ]
    },
    {
      "cell_type": "markdown",
      "source": [
        "# Manipulando los datos\n",
        "\n",
        "Vamos a aprender sobre las variables en Python, cómo declararlas y utilizarlas además de conocer otros comandos de este lenguaje. :D"
      ],
      "metadata": {
        "id": "iP8uWQmFYFRs"
      }
    },
    {
      "cell_type": "markdown",
      "source": [
        "## Variables\n",
        "\n",
        "En Data Science trabajamos con varios tipos de datos e informaciones, entonces es esencial saber cómo trabajar con las variables."
      ],
      "metadata": {
        "id": "sLNVmnTbag1Z"
      }
    },
    {
      "cell_type": "markdown",
      "source": [
        "Las variables en Python se crean cuando atribuimos un valor a ella.\n",
        "\n",
        "Para esto, colocamos el nombre de la variable, el signo de igual (`=`) y el valor que queremos atribuirle."
      ],
      "metadata": {
        "id": "lsCY0wahAbf6"
      }
    },
    {
      "cell_type": "code",
      "source": [
        "nombre = input(\"Ingresa tu nombre:\")\n",
        "print('hola %s' %(nombre))"
      ],
      "metadata": {
        "id": "vsHh5buZADND",
        "outputId": "c51d9f91-3e0a-42aa-e844-b038063afd4e",
        "colab": {
          "base_uri": "https://localhost:8080/"
        }
      },
      "execution_count": null,
      "outputs": [
        {
          "output_type": "stream",
          "name": "stdout",
          "text": [
            "Ingresa tu nombre:Rogelio\n",
            "hola Rogelio\n"
          ]
        }
      ]
    },
    {
      "cell_type": "code",
      "source": [
        "nombre = input('Ingresa tu nombre:')\n",
        "edad = input('Ingresa tu edad:')\n",
        "print('Hola, %s,tienes %s años ' %(nombre,edad))"
      ],
      "metadata": {
        "id": "sivPtqSjADQV",
        "outputId": "46f34f2f-3eb2-4c34-95c7-0e5f2d572668",
        "colab": {
          "base_uri": "https://localhost:8080/"
        }
      },
      "execution_count": null,
      "outputs": [
        {
          "output_type": "stream",
          "name": "stdout",
          "text": [
            "Ingresa tu nombre:Rogelio\n",
            "Ingresa tu edad:60\n",
            "Hola, Rogelio,tienes 60 años \n"
          ]
        }
      ]
    },
    {
      "cell_type": "code",
      "source": [
        "nombre = input('Ingrese nombre:')\n",
        "edad = input('Ingrese edad:')\n",
        "estatura = input('Ingrese estatura')\n",
        "print('Hola, %s,tienes %s años y mides %s metros' %(nombre,edad,estatura))"
      ],
      "metadata": {
        "id": "JC8jO47wADlm",
        "outputId": "15b170e5-eea0-4e8b-bd25-3809ff1852a8",
        "colab": {
          "base_uri": "https://localhost:8080/"
        }
      },
      "execution_count": null,
      "outputs": [
        {
          "output_type": "stream",
          "name": "stdout",
          "text": [
            "Ingrese nombre:Rogelio\n",
            "Ingrese edad:60\n",
            "Ingrese estatura1,60\n",
            "Hola, Rogelio,tienes 60 años y mides 1,60 metros\n"
          ]
        }
      ]
    },
    {
      "cell_type": "code",
      "source": [
        "num1 = int(input ('Ingrese el N° 1:'))\n",
        "num2 = int(input ('Ingrese el N° 2:'))\n",
        "sumat = num1 + num2\n",
        "print('La suma es:{}' .format(sumat))"
      ],
      "metadata": {
        "id": "OJDonHFLTgUk",
        "outputId": "cc09da06-38aa-42bf-94fd-f627cec7fd89",
        "colab": {
          "base_uri": "https://localhost:8080/"
        }
      },
      "execution_count": null,
      "outputs": [
        {
          "output_type": "stream",
          "name": "stdout",
          "text": [
            "Ingrese el N° 1:12\n",
            "Ingrese el N° 2:13\n",
            "La suma es:25\n"
          ]
        }
      ]
    },
    {
      "cell_type": "code",
      "source": [
        "num1 = int(input ('Ingrese el N° 1:'))\n",
        "num2 = int(input ('Ingrese el N° 2:'))\n",
        "num3 = int(input ('Ingrese el N° 3:'))\n",
        "sumat = num1 + num2 + num3\n",
        "print('La suma es:{}' .format(sumat))"
      ],
      "metadata": {
        "id": "79EgZNieWU9j",
        "outputId": "e4d56cd4-3314-42cc-a6d6-588aff5f7160",
        "colab": {
          "base_uri": "https://localhost:8080/"
        }
      },
      "execution_count": null,
      "outputs": [
        {
          "output_type": "stream",
          "name": "stdout",
          "text": [
            "Ingrese el N° 1:12\n",
            "Ingrese el N° 2:13\n",
            "Ingrese el N° 3:14\n",
            "La suma es:39\n"
          ]
        }
      ]
    },
    {
      "cell_type": "markdown",
      "source": [],
      "metadata": {
        "id": "KfciEA7CT_FE"
      }
    },
    {
      "cell_type": "code",
      "source": [
        "num1 = int(input ('Ingrese el N° 1:'))\n",
        "num2 = int(input ('Ingrese el N° 2:'))\n",
        "sumat = num1 - num2\n",
        "print('La resta es }:{}' .format(sumat))"
      ],
      "metadata": {
        "id": "CiFhtZ68Ww0s",
        "outputId": "56c7575b-ae95-4fc0-b034-9f35a3955345",
        "colab": {
          "base_uri": "https://localhost:8080/"
        }
      },
      "execution_count": null,
      "outputs": [
        {
          "output_type": "stream",
          "name": "stdout",
          "text": [
            "Ingrese el N° 1:15\n",
            "Ingrese el N° 2:5\n",
            "La resta es :10\n"
          ]
        }
      ]
    },
    {
      "cell_type": "code",
      "source": [
        "num1 = int(input ('Ingrese el N° 1:'))\n",
        "num2 = int(input ('Ingrese el N° 2:'))\n",
        "sumat = num1 * num2\n",
        "print('El producto de los númeroses:{}' .format(sumat))"
      ],
      "metadata": {
        "id": "n3yA10AEXCFO",
        "outputId": "0cb10b46-1da8-42f8-a96c-67b60111a412",
        "colab": {
          "base_uri": "https://localhost:8080/"
        }
      },
      "execution_count": null,
      "outputs": [
        {
          "output_type": "stream",
          "name": "stdout",
          "text": [
            "Ingrese el N° 1:23\n",
            "Ingrese el N° 2:45\n",
            "El producto de los númeroses:1035\n"
          ]
        }
      ]
    },
    {
      "cell_type": "code",
      "source": [
        "\n",
        "numerador = int(input ('Ingrese el numerador:'))\n",
        "while True:\n",
        "  try:\n",
        "       denominador = int(input ('Ingrese el denominador:'))\n",
        "       if denominador > 0:\n",
        "         division = numerador / denominador\n",
        "         print('El resultado de la divisón es: {}'.format(division))\n",
        "         break\n",
        "       else:\n",
        "         print('Error: El denominador debe ser >0')\n",
        "  except ValueError:\n",
        "      print('Error: Debes ingresar un número valido')\n",
        "\n"
      ],
      "metadata": {
        "id": "Qz5vCxfiXfhZ",
        "outputId": "d349c59b-10fc-40d9-ca93-062122aa6b53",
        "colab": {
          "base_uri": "https://localhost:8080/"
        }
      },
      "execution_count": null,
      "outputs": [
        {
          "output_type": "stream",
          "name": "stdout",
          "text": [
            "Ingrese el numerador:12\n",
            "Ingrese el denominador:0\n",
            "Error: El denominador debe ser >0\n",
            "Ingrese el denominador:2,3\n",
            "Error: Debes ingresar un número valido\n",
            "Ingrese el denominador:5\n",
            "El resultado de la divisón es: 2.4\n"
          ]
        }
      ]
    },
    {
      "cell_type": "code",
      "source": [
        "numerador = int(input ('Ingrese el numerador:'))\n",
        "while True:\n",
        "  try:\n",
        "       denominador = int(input ('Ingrese el denominador:'))\n",
        "       if denominador > 0:\n",
        "         division = numerador // denominador\n",
        "         print('El resto de la divisón es: {}'.format(division))\n",
        "         break\n",
        "       else:\n",
        "         print('Error: El denominador debe ser >0')\n",
        "  except ValueError:\n",
        "      print('Error: Debes ingresar un número valido')"
      ],
      "metadata": {
        "id": "3rqeFuTZeDJM",
        "outputId": "1d0875b5-376d-49a3-8a05-b4f11610862e",
        "colab": {
          "base_uri": "https://localhost:8080/"
        }
      },
      "execution_count": null,
      "outputs": [
        {
          "output_type": "stream",
          "name": "stdout",
          "text": [
            "Ingrese el numerador:12\n",
            "Ingrese el denominador:5\n",
            "El resto de la divisón es: 2\n"
          ]
        }
      ]
    },
    {
      "cell_type": "code",
      "source": [],
      "metadata": {
        "id": "EX3CzPsthaVe"
      },
      "execution_count": null,
      "outputs": []
    },
    {
      "cell_type": "code",
      "source": [
        "num1 = float(input ('Ingrese nota N° 1:'))\n",
        "num2 = float(input ('Ingrese nota N° 2:'))\n",
        "num3 = float(input ('Ingrese nota N° 3:'))\n",
        "suma = float(num1 + num2 + num3)\n",
        "promedio = float(suma/3)\n",
        "print('Tu promedio {}' .format(promedio))"
      ],
      "metadata": {
        "id": "Y9WEoTt_e3ZI",
        "outputId": "96c05ded-c1cd-4d36-da09-66a21286c2c3",
        "colab": {
          "base_uri": "https://localhost:8080/"
        }
      },
      "execution_count": null,
      "outputs": [
        {
          "output_type": "stream",
          "name": "stdout",
          "text": [
            "Ingrese nota N° 1:3.5\n",
            "Ingrese nota N° 2:4.5\n",
            "Ingrese nota N° 3:4.5\n",
            "Tu promedio 4.166666666666667\n"
          ]
        }
      ]
    },
    {
      "cell_type": "markdown",
      "source": [
        "Existen algunos tipos de nomes que **no** podemos definir para las variables:\n",
        "\n",
        "- **Nombres que comiencen con números**\n",
        "  - Ejemplos: `10_notas`, `2_nombre_casa`, etc.\n",
        "- **Palabras separadas por espacio**\n",
        "  - Ejemplos: `Nombre escuela`, `notas estudiantes`, etc.\n",
        "- **Nombres de funciones de Python**\n",
        "  - Ejemplos: `print`, `type`, etc."
      ],
      "metadata": {
        "id": "om2N0jHKAzwL"
      }
    },
    {
      "cell_type": "markdown",
      "source": [
        "> Las letras mayúsculas y minúsculas generarán diferentes variables. La variable `edad` es diferente de `Edad` que a su vez es diferente de `EDAD`:\n",
        "``` Python\n",
        "edad = 1\n",
        "Edad = 2\n",
        "EDAD = 3\n",
        "_edad = 4\n",
        "_edad_ = 5\n",
        "print(edad, Edad, EDAD, _edad, _edad_)\n",
        "1 2 3 4 5\n",
        "```"
      ],
      "metadata": {
        "id": "A19vY2GVMujB"
      }
    },
    {
      "cell_type": "markdown",
      "source": [
        "## Tipos de variables\n",
        "\n",
        "Cada variable contiene una clase específica con respecto al tipo de objeto al cual esta hace referencia. Estas clases serán diferentes de acuerdo con el tipo de dato que le sea atribuido a una variable.\n",
        "\n",
        "Para conocer la clase de cada elemento usamos la función [`type()`](https://docs.python.org/3/library/functions.html#type)"
      ],
      "metadata": {
        "id": "UqhzuBhBHsps"
      }
    },
    {
      "cell_type": "code",
      "source": [
        "a=\"a\"\n",
        "type(a)\n"
      ],
      "metadata": {
        "id": "J5a9t73A_-PX",
        "colab": {
          "base_uri": "https://localhost:8080/"
        },
        "outputId": "dc47d630-a79d-444c-d0aa-7076f1fbac13"
      },
      "execution_count": 1,
      "outputs": [
        {
          "output_type": "execute_result",
          "data": {
            "text/plain": [
              "str"
            ]
          },
          "metadata": {},
          "execution_count": 1
        }
      ]
    },
    {
      "cell_type": "code",
      "source": [
        "b=1\n",
        "type(b)"
      ],
      "metadata": {
        "id": "rqmO1ew-_-So",
        "colab": {
          "base_uri": "https://localhost:8080/"
        },
        "outputId": "ab35600e-bf3d-4980-b6b2-13f562829a67"
      },
      "execution_count": 3,
      "outputs": [
        {
          "output_type": "execute_result",
          "data": {
            "text/plain": [
              "int"
            ]
          },
          "metadata": {},
          "execution_count": 3
        }
      ]
    },
    {
      "cell_type": "code",
      "source": [
        "c=1.3\n",
        "type(c)"
      ],
      "metadata": {
        "id": "xkrPMkeY_-cP",
        "colab": {
          "base_uri": "https://localhost:8080/"
        },
        "outputId": "9b31b352-1bd1-457e-81a6-96ce5897959b"
      },
      "execution_count": 4,
      "outputs": [
        {
          "output_type": "execute_result",
          "data": {
            "text/plain": [
              "float"
            ]
          },
          "metadata": {},
          "execution_count": 4
        }
      ]
    },
    {
      "cell_type": "markdown",
      "source": [
        "En un conjunto de datos escolares podemos tener varios tipos de informaciones. Supongamos que tenemos acceso a la ficha de datos del alumno *Penélope Camacho*, cómo transformamos este nombre en variables de Python?\n",
        "\n",
        "#### Ficha:\n",
        "\n",
        "- Nombre: Penélope Camacho\n",
        "- Edad: 11 años\n",
        "- Promedio del semestre: 9,75\n",
        "- Situación de aprobación: Verdadera (aprobado)"
      ],
      "metadata": {
        "id": "O-FxDumfWu0C"
      }
    },
    {
      "cell_type": "code",
      "source": [
        "nombre='Penélope Camacho'\n",
        "edad=\"11 años\"\n",
        "promedio_semestre=9.75\n",
        "situacion_aprobacion=True\n"
      ],
      "metadata": {
        "id": "FabQ7jQf_8Xt"
      },
      "execution_count": 5,
      "outputs": []
    },
    {
      "cell_type": "markdown",
      "source": [
        "## Variables numéricas\n",
        "\n",
        "Entre los tipos de datos numéricos vamos a enfocarnos en los tipos `entero` y `float`."
      ],
      "metadata": {
        "id": "KFq_8Sxf-OG0"
      }
    },
    {
      "cell_type": "markdown",
      "source": [
        "Tenemos una tabla de información sobre los diversos cargos, cantidad de personas empleadas y el salario correspondiente:\n",
        "\n",
        "|Cargo | Cantidad | Salario|\n",
        "|---|---|---|\n",
        "|Vigilante | 5 | 300 |\n",
        "|Docente | 16| 500|\n",
        "|Coordinador| 2 |600|\n",
        "\n",
        "Necesitamos trabajar con estos datos para obtener:\n",
        "\n",
        "- La cantidad total de empleados;\n",
        "- La diferencia entre el salario más bajo y más alto; y\n",
        "- El promedio ponderado de los salarios de los empleados de la escuela."
      ],
      "metadata": {
        "id": "8_HYUbkVYdQY"
      }
    },
    {
      "cell_type": "code",
      "source": [
        "N_Vigilante = 5\n",
        "S_Vigilante = 300\n",
        "N_Docente = 16\n",
        "S_Docente = 500\n",
        "N_Coordinador = 2\n",
        "S_Coordinador = 600\n",
        "Total_Empleados = N_Vigilante + N_Docente + N_Coordinador\n",
        "print(\"El total de empledados es: {}\".format(Total_Empleados))\n",
        "diferencia_salario = S_Coordinador - S_Vigilante\n",
        "print(\"la diferencia entre el salario más bajo y el más alto es:{}\".format(diferencia_salario))\n",
        "promedio_ponderado = ((S_Vigilante*100/Total_Empleados) + (S_Docente*100/Total_Empleados) + (S_Coordinador*100/Total_Empleados)) / Total_Empleados\n",
        "print(\"El promedio ponderado de los salarios de los empleados es de : {}\".format(promedio_ponderado))"
      ],
      "metadata": {
        "id": "F_X-wxdm_5Ys",
        "colab": {
          "base_uri": "https://localhost:8080/"
        },
        "outputId": "642244c3-e21f-4c68-f16b-cc8795fd457b"
      },
      "execution_count": 15,
      "outputs": [
        {
          "output_type": "stream",
          "name": "stdout",
          "text": [
            "El total de empledados es: 23\n",
            "la diferencia entre el salario más bajo y el más alto es:300\n",
            "El promedio ponderado de los salarios de los empleados es de : 264.6502835538752\n"
          ]
        }
      ]
    },
    {
      "cell_type": "markdown",
      "source": [
        "## Strings"
      ],
      "metadata": {
        "id": "yQy7b0ZWoD-P"
      }
    },
    {
      "cell_type": "markdown",
      "source": [
        "Strings hace referencia a un conjunto de caracteres formando un texto.\n",
        "\n",
        "Podemos crear Strings cuando atribuimos un dato a una variable entre comillas sencillas (`'`) o comillas dobles (`\"`)."
      ],
      "metadata": {
        "id": "vlo2-DXusv3s"
      }
    },
    {
      "cell_type": "code",
      "source": [
        "Nombre=\"Rogelio\"\n",
        "Apellido='Retamales'\n",
        "print('Mi nombre es: %s %s' %(Nombre,Apellido))"
      ],
      "metadata": {
        "id": "ityEWqvh_2wK",
        "colab": {
          "base_uri": "https://localhost:8080/"
        },
        "outputId": "70f06746-e4d7-4802-ab2b-c8a6ddd74bca"
      },
      "execution_count": 20,
      "outputs": [
        {
          "output_type": "stream",
          "name": "stdout",
          "text": [
            "Mi nombre es: Rogelio Retamales\n"
          ]
        }
      ]
    },
    {
      "cell_type": "markdown",
      "source": [
        "Las variables textuales son objetos que poseen métodos que nos ayudan a formatear strings. Los métodos los podemos ejecutar al definir un objeto de acuerdo con la siguiente estructura:\n",
        "\n",
        "```\n",
        "objeto.metodo()\n",
        "```\n",
        "\n",
        "Existen métodos que no necesitan los `()`, siempre es una buena práctica verificar la documentación para cada caso."
      ],
      "metadata": {
        "id": "2e9UD_CCxqz_"
      }
    },
    {
      "cell_type": "markdown",
      "source": [
        "---\n",
        "**Situación:**\n",
        "\n",
        "Recibimos una variable con el nombre de una profesora de la escuela para añadirla a los registros. Sin embargo, necesitamos darle un tratamiento a este texto antes de insertarlo al sistema."
      ],
      "metadata": {
        "id": "p6aPmMGP4tf9"
      }
    },
    {
      "cell_type": "code",
      "source": [
        "texto = '  Micaela de los Sanyos '"
      ],
      "metadata": {
        "id": "icDWtYTjBO0n"
      },
      "execution_count": null,
      "outputs": []
    },
    {
      "cell_type": "markdown",
      "source": [
        "El objetivo final es que el nombre aparezca de la siguiente forma:\n",
        "\n",
        "```\n",
        "'MICAELA DE LOS SANTOS'\n",
        "```"
      ],
      "metadata": {
        "id": "Dg2ZXSZOGzjC"
      }
    },
    {
      "cell_type": "markdown",
      "source": [
        "### [`str.upper()` ](https://docs.python.org/3/library/stdtypes.html#str.upper)\n",
        "Convierte una string a mayúsculas."
      ],
      "metadata": {
        "id": "iVTAD8q702eN"
      }
    },
    {
      "cell_type": "code",
      "source": [
        "Texto=' Fernando Gonzalez Aguilera '\n",
        "Texto=str.upper(Texto)\n",
        "print(Texto)\n"
      ],
      "metadata": {
        "id": "wMVshJrY_ZXh",
        "colab": {
          "base_uri": "https://localhost:8080/"
        },
        "outputId": "b1d79497-b9c8-42aa-881d-04d1f83e04b9"
      },
      "execution_count": 26,
      "outputs": [
        {
          "output_type": "stream",
          "name": "stdout",
          "text": [
            " FERNANDO GONZALEZ AGUILERA \n"
          ]
        }
      ]
    },
    {
      "cell_type": "markdown",
      "source": [
        "### [`str.lower()`](https://docs.python.org/3/library/stdtypes.html#str.lower)\n",
        "Convierte una string a minúsculas."
      ],
      "metadata": {
        "id": "hbDSBtMV1TpG"
      }
    },
    {
      "cell_type": "code",
      "source": [
        "Texto= 'FERNANDO GONZALEZ AGUILERA'\n",
        "Texto=str.lower(Texto)\n",
        "print(Texto)"
      ],
      "metadata": {
        "id": "px3yEeNH_YK4",
        "colab": {
          "base_uri": "https://localhost:8080/"
        },
        "outputId": "75931ce7-67c0-47d4-d5b3-2dc9ca1a2d6e"
      },
      "execution_count": 27,
      "outputs": [
        {
          "output_type": "stream",
          "name": "stdout",
          "text": [
            "fernando gonzalez aguilera\n"
          ]
        }
      ]
    },
    {
      "cell_type": "markdown",
      "source": [
        "### [`str.strip()`](https://docs.python.org/3/library/stdtypes.html#str.strip)\n",
        "Elimina los espacios en blanco al inicio y al final de una string."
      ],
      "metadata": {
        "id": "kz47eWM11gii"
      }
    },
    {
      "cell_type": "code",
      "source": [
        "Texto='   FERNANDO GONZALEZ AGUILERA   '\n",
        "Texto = str.strip(Texto)\n",
        "print(Texto)"
      ],
      "metadata": {
        "colab": {
          "base_uri": "https://localhost:8080/"
        },
        "id": "v4-Jx14Q33J1",
        "outputId": "b162fd2d-0dae-4cee-8d6b-f724a2de4b02"
      },
      "execution_count": 28,
      "outputs": [
        {
          "output_type": "stream",
          "name": "stdout",
          "text": [
            "FERNANDO GONZALEZ AGUILERA\n"
          ]
        }
      ]
    },
    {
      "cell_type": "markdown",
      "source": [
        "### [`str.replace(antiguo, nuevo)`](https://docs.python.org/3/library/stdtypes.html#str.replace)\n",
        "\n",
        "Sustituye todas las ocurrencias del texto \"antiguo\" en la string por el  \"nuevo\"."
      ],
      "metadata": {
        "id": "m6notiyS1SCV"
      }
    },
    {
      "cell_type": "code",
      "source": [
        "texto='Cincuenta veces siete indica la orden'\n",
        "print(texto.replace(\"siete\",\"ocho\"))\n",
        "\n"
      ],
      "metadata": {
        "id": "PNXAixtE_V6R",
        "colab": {
          "base_uri": "https://localhost:8080/"
        },
        "outputId": "3018cd93-c3a4-4e55-ee70-d45e09edebee"
      },
      "execution_count": 36,
      "outputs": [
        {
          "output_type": "stream",
          "name": "stdout",
          "text": [
            "Cincuenta veces ocho indica la orden\n"
          ]
        }
      ]
    },
    {
      "cell_type": "markdown",
      "source": [
        "### Observaciones\n",
        "\n",
        "1. Los métodos devuelven una **tranformación**, no son ejecutados directamente sobre la variable donde está almacenado el texto.\n",
        "\n",
        "2. Adicionalmente, podemos acumular la ejecución de los métodos."
      ],
      "metadata": {
        "id": "zukvEjhG2Rcn"
      }
    },
    {
      "cell_type": "code",
      "source": [
        "texto='Cincuenta veces siete indica la orden'\n",
        "antiguo='siete'\n",
        "nuevo='ocho'\n",
        "texto=texto.replace(antiguo,nuevo)\n",
        "print(texto)"
      ],
      "metadata": {
        "id": "JjkBRklr_T5n",
        "colab": {
          "base_uri": "https://localhost:8080/"
        },
        "outputId": "672776ba-6053-4fcc-fc20-72c9a498ddab"
      },
      "execution_count": 38,
      "outputs": [
        {
          "output_type": "stream",
          "name": "stdout",
          "text": [
            "Cincuenta veces ocho indica la orden\n"
          ]
        }
      ]
    },
    {
      "cell_type": "markdown",
      "source": [
        "Para que la transformación se pueda ejecutar debemos atribuir la salida de las transformaciones a las variables"
      ],
      "metadata": {
        "id": "1KbwfVut2h6I"
      }
    },
    {
      "cell_type": "markdown",
      "source": [
        "## Capturando datos\n",
        "\n",
        "En algunas aplicaciones necesitamos capturar los valores del usuario de nuestro proyecto. En python, logramos capturar los datos del usuario a través del comando [`input()`](https://docs.python.org/3/library/functions.html#input).\n",
        "\n",
        "Para ejecutar la captura debemos atribuir el resultado de esta función a una variable."
      ],
      "metadata": {
        "id": "0h9Fh5G9kHCa"
      }
    },
    {
      "cell_type": "code",
      "source": [
        "nombre=input('ingresa tu nombre')\n",
        "print(type(nombre))\n",
        "print(nombre)"
      ],
      "metadata": {
        "id": "zbH_9i3q_PdY",
        "colab": {
          "base_uri": "https://localhost:8080/"
        },
        "outputId": "827825ec-3e34-47af-97de-73f6fb4a0f19"
      },
      "execution_count": 43,
      "outputs": [
        {
          "output_type": "stream",
          "name": "stdout",
          "text": [
            "ingresa tu nombre Rogelio \n",
            "<class 'str'>\n",
            " Rogelio \n"
          ]
        }
      ]
    },
    {
      "cell_type": "code",
      "source": [],
      "metadata": {
        "id": "JZy1Q9Tl_PgL"
      },
      "execution_count": null,
      "outputs": []
    },
    {
      "cell_type": "markdown",
      "source": [
        "La salida de este comando siempre será una *string*. Esto quiere decir que aunque capturemos un valor de variable numérica, este será de tipo string.\n",
        "\n",
        "Entonces, será necesario **convertir el resultado cuando no se desea utilizar el valor como tipo string**."
      ],
      "metadata": {
        "id": "7z7hcLCk_aCY"
      }
    },
    {
      "cell_type": "markdown",
      "source": [
        "Existen funciones para la conversión de valores:\n",
        "\n",
        "- Enteros: [`int(dato_para_conversion)`](https://docs.python.org/3/library/functions.html#int)\n",
        "- Coma flotante: [`float(dato_para_conversion)`](https://docs.python.org/3/library/functions.html#float)\n",
        "- String: [`str(dato_para_conversion)`](https://docs.python.org/3/library/functions.html#func-str)\n",
        "- Booleano: [`bool(dato_para_conversion)`](https://docs.python.org/3/library/functions.html#bool)"
      ],
      "metadata": {
        "id": "TOlegATj1Jfp"
      }
    },
    {
      "cell_type": "code",
      "source": [
        "numero=input('ingresa un numero:')\n",
        "print('El tipo de número es: %s' %(type(numero)))\n",
        "display(numero)\n",
        "numero=int(numero)\n",
        "print(\"Lo convertimos a : %s\" %(type(numero)))\n",
        "print (numero)\n"
      ],
      "metadata": {
        "id": "M2ueeH6l_NMe",
        "colab": {
          "base_uri": "https://localhost:8080/",
          "height": 104
        },
        "outputId": "a248f63f-7e30-49f9-f5c6-af7516703173"
      },
      "execution_count": 48,
      "outputs": [
        {
          "output_type": "stream",
          "name": "stdout",
          "text": [
            "ingresa un numero:23456\n",
            "El tipo de numero es: <class 'str'>\n"
          ]
        },
        {
          "output_type": "display_data",
          "data": {
            "text/plain": [
              "'23456'"
            ],
            "application/vnd.google.colaboratory.intrinsic+json": {
              "type": "string"
            }
          },
          "metadata": {}
        },
        {
          "output_type": "stream",
          "name": "stdout",
          "text": [
            "Lo convertimos a : <class 'int'>\n",
            "23456\n"
          ]
        }
      ]
    },
    {
      "cell_type": "code",
      "source": [
        "numero=input('ingresa un número:')\n",
        "print('El tipo de numero es: %s' %(type(numero)))\n",
        "display(numero)\n",
        "numero=float(numero)\n",
        "print(\"Lo convertimos a : %s\" %(type(numero)))\n",
        "print (numero)\n"
      ],
      "metadata": {
        "id": "xfWwuViK_NUn",
        "colab": {
          "base_uri": "https://localhost:8080/",
          "height": 104
        },
        "outputId": "2c2d3b7b-4101-4366-fe42-89705a947e03"
      },
      "execution_count": 49,
      "outputs": [
        {
          "output_type": "stream",
          "name": "stdout",
          "text": [
            "ingresa un numero:123.4\n",
            "El tipo de numero es: <class 'str'>\n"
          ]
        },
        {
          "output_type": "display_data",
          "data": {
            "text/plain": [
              "'123.4'"
            ],
            "application/vnd.google.colaboratory.intrinsic+json": {
              "type": "string"
            }
          },
          "metadata": {}
        },
        {
          "output_type": "stream",
          "name": "stdout",
          "text": [
            "Lo convertimos a : <class 'float'>\n",
            "123.4\n"
          ]
        }
      ]
    },
    {
      "cell_type": "code",
      "source": [
        "Numero=123456\n",
        "print('El tipo de numero es: %s' %(type(Numero)))\n",
        "display(Numero)\n",
        "Numero=str(Numero)\n",
        "print(\"Lo convertimos a : %s\" %(type(Numero)))\n",
        "print (Numero)"
      ],
      "metadata": {
        "id": "uFCHDyew_NZm",
        "colab": {
          "base_uri": "https://localhost:8080/",
          "height": 86
        },
        "outputId": "86c59a4b-8e97-425d-87ca-9331398adb31"
      },
      "execution_count": 50,
      "outputs": [
        {
          "output_type": "stream",
          "name": "stdout",
          "text": [
            "El tipo de numero es: <class 'int'>\n"
          ]
        },
        {
          "output_type": "display_data",
          "data": {
            "text/plain": [
              "123456"
            ]
          },
          "metadata": {}
        },
        {
          "output_type": "stream",
          "name": "stdout",
          "text": [
            "Lo convertimos a : <class 'str'>\n",
            "123456\n"
          ]
        }
      ]
    },
    {
      "cell_type": "code",
      "source": [
        "valor_booleano = 1\n",
        "convertido = bool(valor_booleano)\n",
        "print('El valor booleano es:%s' %(convertido))"
      ],
      "metadata": {
        "id": "keJjA5N9_K5i",
        "colab": {
          "base_uri": "https://localhost:8080/"
        },
        "outputId": "ef5616e4-e73d-4de9-9f34-0a389110fd49"
      },
      "execution_count": null,
      "outputs": [
        {
          "output_type": "stream",
          "name": "stdout",
          "text": [
            "El valor booleano es:True\n"
          ]
        }
      ]
    },
    {
      "cell_type": "markdown",
      "source": [
        "Trataremos de representar mejor ahora el resultado de la transformación que obtuvimos. Nosotros podemos formatear y presentar nuestro resultado mezclando strings con valores no textuales.\n",
        "\n",
        "Para ello utilizamos la estructura de formatación `f` con strings."
      ],
      "metadata": {
        "id": "yNI2-XTbB3aS"
      }
    },
    {
      "cell_type": "code",
      "source": [
        "Nombre='Rogelio'\n",
        "Alumno =\"ONE G8\"\n",
        "print(f'Mi nombre es: {Nombre} y soy alumno de One G8 {Apellido}')"
      ],
      "metadata": {
        "colab": {
          "base_uri": "https://localhost:8080/"
        },
        "id": "uph5jpmtDwD_",
        "outputId": "73498b8f-5efb-45a9-b2f0-a4a5b0d6f3fe"
      },
      "execution_count": 52,
      "outputs": [
        {
          "output_type": "stream",
          "name": "stdout",
          "text": [
            "Mi nombre es: Rogelio y soy alumno de One G8 Retamales\n"
          ]
        }
      ]
    },
    {
      "cell_type": "markdown",
      "source": [
        "# Estructuras condicionales"
      ],
      "metadata": {
        "id": "NwRaiHHHhhyl"
      }
    },
    {
      "cell_type": "code",
      "source": [
        "numero=int(input('Ingresa un número:'))\n",
        "if numero % 2 == 0:\n",
        "  print('El número es par')\n"
      ],
      "metadata": {
        "id": "pa4gLncu-mvU",
        "colab": {
          "base_uri": "https://localhost:8080/"
        },
        "outputId": "b2d2c8fc-6c29-44a7-9850-15c01df8fbc5"
      },
      "execution_count": 3,
      "outputs": [
        {
          "output_type": "stream",
          "name": "stdout",
          "text": [
            "Ingresa un número:4\n",
            "El número es par\n"
          ]
        }
      ]
    },
    {
      "cell_type": "markdown",
      "source": [
        "## `IF` y `ELSE`\n",
        "\n",
        "Los comandos `if` y `else` son dos estructuras condicionales. El comando `if` ejecutará el bloque de comandos en caso de que la condición citada sea  **verdadera**. El comando `else` ejecutará el bloque de comandos en el caso de que la condicional de `if` sea **falsa**."
      ],
      "metadata": {
        "id": "qXZqg9aYEhAh"
      }
    },
    {
      "cell_type": "markdown",
      "source": [
        "El comando `if` es una palabra clave en Python que significa \"si\". Este se emplea para conformar la estructura condicional, que te permite verificar si una determinada condición es verdadera o falsa e, inmediatamente después, ejecute un bloque de código específico dependiendo del resultado de la verificación. La sintaxis para usar el comando `if` es:\n",
        "\n",
        "\n",
        "\n",
        "```\n",
        "if condicion:\n",
        "    # Realiza algo\n",
        "```\n",
        "\n"
      ],
      "metadata": {
        "id": "EIhlqHXd2Gil"
      }
    },
    {
      "cell_type": "code",
      "source": [
        "numero=int(input('Ingresa un número:'))\n",
        "if numero % 2 == 0:\n",
        "  print('El número es par')\n",
        "else:\n",
        "  print('El número es impar')"
      ],
      "metadata": {
        "id": "S2S6XAFz-czM",
        "colab": {
          "base_uri": "https://localhost:8080/"
        },
        "outputId": "c46b2a2d-fa07-4a80-ade7-85b17b3ae6cc"
      },
      "execution_count": 4,
      "outputs": [
        {
          "output_type": "stream",
          "name": "stdout",
          "text": [
            "Ingresa un número:5\n",
            "El número es impar\n"
          ]
        }
      ]
    },
    {
      "cell_type": "markdown",
      "source": [
        "Ya el comando `else` en Python se usa en junción con la palabra clave `if` para formar una estructura condicional. la sintaxis para usar el `else` es:\n",
        "\n",
        "```\n",
        "if condicion:\n",
        "  # codigo en caso de que sea verdad\n",
        "else:\n",
        "  # codigo en caso de que sea falso\n",
        "```\n",
        "\n",
        "el comando `else` se ejecuta cuando la condición verificada por el `if` es evaluada como `False`."
      ],
      "metadata": {
        "id": "27RW2v_sIKct"
      }
    },
    {
      "cell_type": "code",
      "source": [],
      "metadata": {
        "id": "ZTfNJd_f-aOq"
      },
      "execution_count": null,
      "outputs": []
    },
    {
      "cell_type": "code",
      "source": [],
      "metadata": {
        "id": "LPOb5MkV-btq"
      },
      "execution_count": null,
      "outputs": []
    },
    {
      "cell_type": "markdown",
      "source": [
        "---\n",
        "**Situación:**\n",
        "\n",
        "Recibiremos el promedio de la nota de los estudiantes y necesitamos de un algoritmo que ejecute el análisis y determine si el estudiante fue **Aprobado** o **Reprobado**, mostrando un mensaje del resultado. Para ser aprobado, el promedio necesita ser igual o superior a 7.0."
      ],
      "metadata": {
        "id": "BqORg85XX-Nl"
      }
    },
    {
      "cell_type": "code",
      "source": [
        "nota = int(input('Ingrese nota:'))\n",
        "if nota >= 7:\n",
        "  print('Aprobado')\n",
        "else:\n",
        "  print('Reprobado')"
      ],
      "metadata": {
        "id": "UukCN4AQ-YYW",
        "colab": {
          "base_uri": "https://localhost:8080/"
        },
        "outputId": "22ac0d35-c7fa-45e9-f22a-22bdf1a90aca"
      },
      "execution_count": 67,
      "outputs": [
        {
          "output_type": "stream",
          "name": "stdout",
          "text": [
            "Ingrese nota:6\n",
            "Reprobado\n"
          ]
        }
      ]
    },
    {
      "cell_type": "markdown",
      "source": [
        "Ahora, nuestra institución educativa estableció que las personas que tengan el promedio entre 5.0 y 7.0 pueden participar del curso de **Recuperación** durante las vacaciones para lograr aprobar.\n",
        "\n",
        "Entonces podemos apoyarnos en un conjunto de `if`s para poder estructurar esta nueva condición."
      ],
      "metadata": {
        "id": "bD9O17HB6LUo"
      }
    },
    {
      "cell_type": "code",
      "source": [],
      "metadata": {
        "id": "G9cJ5O9--W52"
      },
      "execution_count": null,
      "outputs": []
    },
    {
      "cell_type": "code",
      "source": [
        "nota = int(input('Ingrese nota:'))\n",
        "if nota >= 5 and nota <=7:\n",
        "  print('Participa en proceso de recuparación')\n",
        "else:\n",
        "  print('Reprobado')"
      ],
      "metadata": {
        "colab": {
          "base_uri": "https://localhost:8080/"
        },
        "outputId": "6f2c986b-538d-4d59-f049-5e7911b49af9",
        "id": "kx1HUyjIJ0jz"
      },
      "execution_count": 72,
      "outputs": [
        {
          "output_type": "stream",
          "name": "stdout",
          "text": [
            "Ingrese nota:6\n",
            "Participa en proceso de recuparación\n"
          ]
        }
      ]
    },
    {
      "cell_type": "code",
      "source": [],
      "metadata": {
        "id": "iU-pjoJt-W89"
      },
      "execution_count": null,
      "outputs": []
    },
    {
      "cell_type": "markdown",
      "source": [
        "Observa que en casos con 3 situaciones como este necesitamos definir bien nuestras condiciones. Pues, si realizamos una condición con `else` al final, este irá a considerar solamente la condición `if` inmediatamente anterior para generar la salida en caso de que el resultado de su operación lógica sea **falso** dando como resultado, dos o más ejecuciones.\n",
        "\n",
        "Por ejemplo:"
      ],
      "metadata": {
        "id": "D5e2mByjvycO"
      }
    },
    {
      "cell_type": "code",
      "source": [
        "from ast import NameConstant\n",
        "nota = int(input('Ingrese nota:'))\n",
        "if nota >= 5:\n",
        "    if nota <=7:\n",
        "       print('Participa en proceso de recuparación')\n",
        "    else:\n",
        "        print('Reprobado')\n",
        "else:\n",
        "  print('Reprobado')"
      ],
      "metadata": {
        "id": "C21JmOuK-VU8",
        "colab": {
          "base_uri": "https://localhost:8080/"
        },
        "outputId": "b26c243c-9d5c-4768-d1a0-20379cf0c490"
      },
      "execution_count": 75,
      "outputs": [
        {
          "output_type": "stream",
          "name": "stdout",
          "text": [
            "Ingrese nota:3\n",
            "Reprobado\n"
          ]
        }
      ]
    },
    {
      "cell_type": "code",
      "source": [],
      "metadata": {
        "id": "bHiVgnPs-Vlv"
      },
      "execution_count": null,
      "outputs": []
    },
    {
      "cell_type": "markdown",
      "source": [
        "## `ELIF`\n",
        "\n",
        "El comando `elif` es una palabra clave en Python que significa \"si no, si\" y lo podemos considerar una *contracción* entre `else` e `if`. Se utiliza en conjunto con la palabra clave `if` para formar una estructura condicional en cadena."
      ],
      "metadata": {
        "id": "04T5g-7h4zWx"
      }
    },
    {
      "cell_type": "markdown",
      "source": [
        "la sintaxis para utilizar el comando `elif` es:\n",
        "\n",
        "```\n",
        "if condicion1:\n",
        "    # Realiza algo\n",
        "elif condicion2:\n",
        "    # Realiza otra cosa\n",
        "elif condicion3:\n",
        "    # Realiza otra cosa\n",
        "else:\n",
        "    # Realiza algo diferente\n",
        "```\n",
        "\n",
        "El comando `elif` permite que puedas verificar varias condiciones en cadena, economizando espacio en tu código. Si la primera condición se evalúa como `False`, el interpretador de Python evaluará la próxima condición con el `elif`. Ello continuará hasta que una condición sea evaluada como `True` o hasta que el `else` sea alcazado. Si ninguna de las condiciones es evaluada como `True`, la ejecución del código del comando `else` será iniciada."
      ],
      "metadata": {
        "id": "rNBHr5mm1Lm6"
      }
    },
    {
      "cell_type": "markdown",
      "source": [
        "Vamos a emplear el mismo caso anterior:"
      ],
      "metadata": {
        "id": "MVoykFbB4bd4"
      }
    },
    {
      "cell_type": "code",
      "source": [
        "nota = int(input('Ingrese nota:'))\n",
        "if nota >= 7:\n",
        "  print('Aprobado')\n",
        "elif nota >= 5:\n",
        "  print('Participa en proceso de recuperación')\n",
        "else:\n",
        "  print('Reprobado')\n"
      ],
      "metadata": {
        "id": "QFamB78s-TW_"
      },
      "execution_count": null,
      "outputs": []
    },
    {
      "cell_type": "code",
      "source": [],
      "metadata": {
        "id": "nuScbnHF-TfK"
      },
      "execution_count": null,
      "outputs": []
    },
    {
      "cell_type": "markdown",
      "source": [
        "## Operadores\n",
        "\n",
        "Durante la construcción de comandos a veces necesitamos de una elaboración mayor de la expresión condicional, necesitando que algunos operadores lógicos se encuentren integrados."
      ],
      "metadata": {
        "id": "Tf1wSOem6iwZ"
      }
    },
    {
      "cell_type": "markdown",
      "source": [
        "### `AND`, `OR`, `NOT`\n",
        "\n",
        "Los operadores lógicos `and`, `or` y `not` son usados para combinar expresiones lógicas en Python. Ellos son usados frecuentemente en conjunto con el comando `if` para crear estructuras condicionales más complejas.\n"
      ],
      "metadata": {
        "id": "GFIZnRWXGPWO"
      }
    },
    {
      "cell_type": "markdown",
      "source": [
        "- `AND` es usado para verificar si dos condiciones son verdaderas. La expresión lógica¹ `x and y` se evalúa como `True` tan solo si **ambas condiciones `x` y `y` son verdaderas**, y como `False` en caso contrario.\n",
        "\n",
        "- `OR` es usado para verificar si al menos una de las condiciones es verdadera. La expresión lógica `x or y` se evalúa como `True` **si al menos una de las condiciones `x` o `y` es verdadera**, y como `False` si ambas condiciones son falsas.\n",
        "\n",
        "- `NOT` es usado para **negar una condición**. La expresión lógica `not x` es evaluada como `True` si la condición x es falsa, y como `False` si la condición x es verdadera.\n",
        "\n",
        "¹ Una expresión lógica es una declaración que puede ser evaluada como verdadera o falsa. Ella se compone por operandos lógicos² y por operadores lógicos³, que son usados ​​para combinar varias expresiones lógicas en una única expresión.\n",
        "\n",
        "² Los operandos lógicos son los elementos que son comparados o evaluados en una expresión lógica. Ellos son generalmente valores verdaderos o falsos, pero también pueden ser expresiones lógicas más complejas. En Python, los operandos lógicos son los valores `True` y `False`.\n",
        "\n",
        "³ Los operadores lógicos son ls símbolos o palabras clave que son usados ​​para combinar varias expresiones lógicas en una única expresión. En Python, los operadores lógicos son `and`, `or` y `not`, bien como las palabras clave `if`, `elif` e `else`."
      ],
      "metadata": {
        "id": "Z_dgAoHXJbzB"
      }
    },
    {
      "cell_type": "markdown",
      "source": [
        "> Operadores lógicos más comunes\n",
        "\n",
        "|a|b|AND|OR|NOT|\n",
        "|-|-|-|-|-|\n",
        "|0|0|0|0|1\n",
        "|0|1|0|1|-\n",
        "|1|0|0|1|-\n",
        "|1|1|1|1|0\n"
      ],
      "metadata": {
        "id": "2E5aUogf-49u"
      }
    },
    {
      "cell_type": "code",
      "source": [],
      "metadata": {
        "id": "DFKmpvmS-Pa6"
      },
      "execution_count": null,
      "outputs": []
    },
    {
      "cell_type": "code",
      "source": [],
      "metadata": {
        "id": "W5BIrpOD-PeI"
      },
      "execution_count": null,
      "outputs": []
    },
    {
      "cell_type": "code",
      "source": [],
      "metadata": {
        "id": "fpDhYxq4-PiM"
      },
      "execution_count": null,
      "outputs": []
    },
    {
      "cell_type": "markdown",
      "source": [
        "### `IN`\n",
        "\n",
        "Es usado para verificar si un elemento está presente en una lista, tupla u otra colección de conjunto. La expresión `x in y` se evalúa como `True` si el elemento `x` esta presente na variávelen la variable de conjunto `y`, y como `False` en caso contrario."
      ],
      "metadata": {
        "id": "w7EXG1dhWtja"
      }
    },
    {
      "cell_type": "markdown",
      "source": [
        "Podemos verificarlo con variables de texto.\n",
        "\n",
        "---\n",
        "\n",
        "**Situación:**\n",
        "\n",
        "En la escuela nos entregaron una lista con nombres de estudiantes que fueron aprobados según el promedio del semestre, pero es necesario verificar si algunos nombres están en esa lista para confirmar que los datos estén correctos.\n",
        "\n",
        "La lista distribuida puede ser observada a continuación:\n",
        "\n",
        "```\n",
        "lista = 'Juan Pérez, María González, Pedro Rodríguez, Ana López, Carlos Martínez,\n",
        "    Laura Sánchez, José García, Elena Fernández, Luis Morales, Carmen Torres,\n",
        "    David Ruiz, Isabel Ramírez, Javier Díaz, Sara Herrera, Miguel Castro,\n",
        "    Patricia Ortega, Francisco Vargas, Marta Jiménez, Manuel Medina, Rosa Molina,\n",
        "    Alejandro Silva, Silvia Ruiz, Andrés Torres, Natalia Soto, Diego Guerrero,\n",
        "    Paula Ríos, Ricardo Navarro, Alicia Cordero, Carlos Vidal, Lorena Gómez'\n",
        "```\n",
        "\n",
        "Los nombres que necesitas verificar son los siguientes:\n",
        "\n",
        "```\n",
        "nombre_1 = 'Miguel Castro'\n",
        "nombre_2 = 'Marcelo Noguera'\n",
        "```"
      ],
      "metadata": {
        "id": "enJNp6JenQbq"
      }
    },
    {
      "cell_type": "code",
      "source": [
        "lista = \"Juan Pérez, María González, Pedro Rodríguez, Ana López, Carlos Martínez, Laura Sánchez, José García, Elena Fernández, Luis Morales, Carmen Torres,David Ruiz, Isabel Ramírez, Javier Díaz, Sara Herrera, Miguel Castro,Patricia Ortega, Francisco Vargas, Marta Jiménez, Manuel Medina, Rosa Molina,Alejandro Silva, Silvia Ruiz, Andrés Torres, Natalia Soto, Diego Guerrero,Paula Ríos, Ricardo Navarro, Alicia Cordero, Carlos Vidal, Lorena Gómez\"\n",
        "nombre_1 = 'Miguel Castro'\n",
        "nombre_2 = 'Marcelo Noguera'\n",
        "print(nombre_1 in lista)\n",
        "print(nombre_2 in lista)"
      ],
      "metadata": {
        "id": "gPPN9BCT-Mki",
        "colab": {
          "base_uri": "https://localhost:8080/"
        },
        "outputId": "99c722e6-d2a0-4c0a-e508-64ef96f2390c"
      },
      "execution_count": 79,
      "outputs": [
        {
          "output_type": "stream",
          "name": "stdout",
          "text": [
            "True\n",
            "False\n"
          ]
        }
      ]
    },
    {
      "cell_type": "code",
      "source": [],
      "metadata": {
        "id": "GINbG3Fa-Mnb"
      },
      "execution_count": null,
      "outputs": []
    },
    {
      "cell_type": "code",
      "source": [],
      "metadata": {
        "id": "hk-RhNRT-Mp7"
      },
      "execution_count": null,
      "outputs": []
    },
    {
      "cell_type": "markdown",
      "source": [
        "# Estructuras de repetición"
      ],
      "metadata": {
        "id": "aL1vJPewvwvz"
      }
    },
    {
      "cell_type": "markdown",
      "source": [
        "Cuando tenemos que ejecutar un mismo bloque de comandos durante varias ocasiones no es nada práctico hacerlo a mano.\n",
        "\n",
        "**Situación**: Nos fue solicitado obtener e imprimir el promedio de 2 notas de **3 estudantes**:"
      ],
      "metadata": {
        "id": "VcPfCa8d-84t"
      }
    },
    {
      "cell_type": "code",
      "source": [
        "nota1=float(input('Ingrese nota 1 estudiante 1:'))\n",
        "nota2=float(input('Ingrese nota 2 estudiante 1:'))\n",
        "print(f'El promedio del estudiante 1 es: %f' %((nota1+nota2)/2))\n",
        "\n",
        "nota1=float(input('Ingrese nota 1 estudiante 2:'))\n",
        "nota2=float(input('Ingrese nota 2 estudiante 2:'))\n",
        "print(f'El promedio del estudiante 2 es: %f' %((nota1+nota2)/2))\n",
        "\n",
        "nota1=float(input('Ingrese nota 1 estudiante 3:'))\n",
        "nota2=float(input('Ingrese nota 2 estudiante 3:'))\n",
        "print(f'El promedio del estudiante 3 es: %f' %((nota1+nota2)/2))"
      ],
      "metadata": {
        "id": "xcx21IGT9qA0",
        "colab": {
          "base_uri": "https://localhost:8080/"
        },
        "outputId": "e7159156-8462-4b2d-9493-120048e513e2"
      },
      "execution_count": 7,
      "outputs": [
        {
          "output_type": "stream",
          "name": "stdout",
          "text": [
            "Ingrese nota 1 estudiante 1:3.4\n",
            "Ingrese nota 2 estudiante 1:4.5\n",
            "El promedio del estudiante 1 es: 3.950000\n",
            "Ingrese nota 1 estudiante 2:5.6\n",
            "Ingrese nota 2 estudiante 2:6.5\n",
            "El promedio del estudiante 2 es: 6.050000\n",
            "Ingrese nota 1 estudiante 3:2.6\n",
            "Ingrese nota 2 estudiante 3:6.2\n",
            "El promedio del estudiante 3 es: 4.400000\n"
          ]
        }
      ]
    },
    {
      "cell_type": "code",
      "source": [],
      "metadata": {
        "id": "Wtbiy9Ay9rGJ"
      },
      "execution_count": null,
      "outputs": []
    },
    {
      "cell_type": "code",
      "source": [],
      "metadata": {
        "id": "Yfyz4anY9rIr"
      },
      "execution_count": null,
      "outputs": []
    },
    {
      "cell_type": "markdown",
      "source": [
        "Ahora imaginemos una situación en que no son tan solo 3 estudiantes, sino 100 estudiantes. No sería nada interesante repetir el mismo código 100 veces, sino **ejecutar el mismo código 100 veces**.\n",
        "\n",
        "¡Esta estructura la logramos construir con lazos de repetición!"
      ],
      "metadata": {
        "id": "9puIuvUbFSFX"
      }
    },
    {
      "cell_type": "markdown",
      "source": [
        "## `WHILE`"
      ],
      "metadata": {
        "id": "uLO9-aE4-wx8"
      }
    },
    {
      "cell_type": "markdown",
      "source": [
        "El lazo `while` es una estructura de control de repetición en Python que permite ejecutar un bloque de código repetidamente mientras que una determinada condición sea verdadera. Su estructura es:\n",
        "\n",
        "\n",
        "\n",
        "```\n",
        "while condicion:\n",
        "    # bloque de codigo\n",
        "```\n",
        "\n",
        "Vamos a construir un ejemplo con un contador de 1 hasta 10.\n"
      ],
      "metadata": {
        "id": "rXZxDMiqHxm9"
      }
    },
    {
      "cell_type": "code",
      "source": [
        "i=1\n",
        "while i<10:\n",
        "  print(i)\n",
        "  i+=1"
      ],
      "metadata": {
        "id": "miFHNqp29nOL",
        "colab": {
          "base_uri": "https://localhost:8080/"
        },
        "outputId": "88989c91-5a22-4991-e2ac-a04512eacbcb"
      },
      "execution_count": 8,
      "outputs": [
        {
          "output_type": "stream",
          "name": "stdout",
          "text": [
            "1\n",
            "2\n",
            "3\n",
            "4\n",
            "5\n",
            "6\n",
            "7\n",
            "8\n",
            "9\n"
          ]
        }
      ]
    },
    {
      "cell_type": "markdown",
      "source": [
        "Ahora vamos a colectar las notas y promedios de cada alumno dentro del lazo `while`. Haremos un ejemplo con 3 promedios."
      ],
      "metadata": {
        "id": "W4KZPBJuIrut"
      }
    },
    {
      "cell_type": "code",
      "source": [],
      "metadata": {
        "id": "P6E0_dW-9lZ9"
      },
      "execution_count": null,
      "outputs": []
    },
    {
      "cell_type": "code",
      "source": [
        "nestudiante=int(input('¿ingrese número de estudiantes:'))\n",
        "i=1\n",
        "while i<=nestudiante:\n",
        "    print('Estudiante %i' %(i))\n",
        "    nota1=float(input('Ingrese nota 1:'))\n",
        "    nota2=float(input('Ingrese nota 2:'))\n",
        "    print(f'El promedio del estudiante %i es: %f' %((i),(nota1+nota2)/2))\n",
        "    i+=1\n"
      ],
      "metadata": {
        "colab": {
          "base_uri": "https://localhost:8080/"
        },
        "outputId": "f71e0edb-567a-497d-f966-9e705c6e9a1d",
        "id": "n8T4Nq9hnorj"
      },
      "execution_count": 16,
      "outputs": [
        {
          "output_type": "stream",
          "name": "stdout",
          "text": [
            "¿ingrese número de estudiantes:2\n",
            "Estudiante 1\n",
            "Ingrese nota 1:4.5\n",
            "Ingrese nota 2:3.4\n",
            "El promedio del estudiante 1 es: 3.950000\n",
            "Estudiante 2\n",
            "Ingrese nota 1:6.7\n",
            "Ingrese nota 2:4.2\n",
            "El promedio del estudiante 2 es: 5.450000\n"
          ]
        }
      ]
    },
    {
      "cell_type": "markdown",
      "source": [
        "## `FOR`"
      ],
      "metadata": {
        "id": "WgAIaENMMfCP"
      }
    },
    {
      "cell_type": "markdown",
      "source": [
        "El lazo `for` es un tipo de estructura de control de flujo en Python que permite iterar sobre un conjunto de elementos. Su estructura es:\n",
        "\n",
        "\n",
        "\n",
        "```\n",
        "for elemento in conjunto:\n",
        "    # codigo a ser ejecutado para cada elemento\n",
        "```\n",
        "\n",
        "El lazo `for` itera sobre cada elemento del conjunto especificado y ejecuta el bloque de código dentro del lazo para cada elemento. Cuando el lazo llega al final del conjunto, este se interrumpe y el programa continúa la ejecución después del lazo.\n",
        "\n"
      ],
      "metadata": {
        "id": "HxrSZoRAMh-x"
      }
    },
    {
      "cell_type": "markdown",
      "source": [
        "El conjunto lo podemos generar con la función incorporada [`range()`](https://docs.python.org/3/library/functions.html#func-range). Se trata de una función capaz de generar una secuencia de números enteros. La estructura de esta función es:\n",
        "\n",
        "```\n",
        "range(inicio, fin, paso)\n",
        "```\n",
        "\n",
        "Según la documentación, `range()` genera una secuencia de números enteros a partir del valor del parámetro `inicio` hasta el valor del parámetro `fin`, de acuerdo con el valor del parámetro `paso`. Si `inicio` no es especificado, el valor por defecto es `0`. Si `paso` no es especificado, el valor por defecto es `1`.\n",
        "\n",
        "\n"
      ],
      "metadata": {
        "id": "6VgjyoQtPHBM"
      }
    },
    {
      "cell_type": "markdown",
      "source": [
        "Vamos a recrear el mismo contador `while` con el lazo `for`."
      ],
      "metadata": {
        "id": "ryn0hfdlUwC8"
      }
    },
    {
      "cell_type": "code",
      "source": [
        "nestudiante=int(input('¿ingrese número de estudiantes:'))\n",
        "i=1\n",
        "for i in range(i,nestudiante+1):\n",
        "    print('Estudiante %i' %(i))\n",
        "    nota1=float(input('Ingrese nota 1:'))\n",
        "    nota2=float(input('Ingrese nota 2:'))\n",
        "    print(f'El promedio del estudiante %i es: %f' %((i),(nota1+nota2)/2))"
      ],
      "metadata": {
        "id": "KkL1wUIj9jL4",
        "colab": {
          "base_uri": "https://localhost:8080/"
        },
        "outputId": "b22eda28-b366-4c67-f8c6-f7c28361b836"
      },
      "execution_count": 23,
      "outputs": [
        {
          "output_type": "stream",
          "name": "stdout",
          "text": [
            "¿ingrese número de estudiantes:2\n",
            "Estudiante 1\n",
            "Ingrese nota 1:2.3\n",
            "Ingrese nota 2:6.3\n",
            "El promedio del estudiante 1 es: 4.300000\n",
            "Estudiante 2\n",
            "Ingrese nota 1:6.5\n",
            "Ingrese nota 2:6.6\n",
            "El promedio del estudiante 2 es: 6.550000\n"
          ]
        }
      ]
    },
    {
      "cell_type": "code",
      "source": [
        "n1=int(input('Ingrese número inicial:'))\n",
        "n2=int(input('Ingrese número final:'))\n",
        "for i in range(n1,n2+1):\n",
        "  print(i)"
      ],
      "metadata": {
        "id": "uXIZnLSr9jOu",
        "colab": {
          "base_uri": "https://localhost:8080/"
        },
        "outputId": "b06b04e6-580b-4596-8b6a-ae09e9a27100"
      },
      "execution_count": 24,
      "outputs": [
        {
          "output_type": "stream",
          "name": "stdout",
          "text": [
            "Ingrese número inicial:1\n",
            "Ingrese número final:10\n",
            "1\n",
            "2\n",
            "3\n",
            "4\n",
            "5\n",
            "6\n",
            "7\n",
            "8\n",
            "9\n",
            "10\n"
          ]
        }
      ]
    },
    {
      "cell_type": "code",
      "source": [
        "ca=4.0\n",
        "cb=10.0\n",
        "cdias=1\n",
        "while cb>=ca:\n",
        "    ca=ca+ca*(3/100)\n",
        "    cb=cb+cb*(1.5/100)\n",
        "    cdias+=1\n",
        "print('Se demora %i días' %(cdias))"
      ],
      "metadata": {
        "colab": {
          "base_uri": "https://localhost:8080/"
        },
        "id": "WRxCPtsput_G",
        "outputId": "d8c1207b-1cf0-4ec8-ae7f-0595637ee71a"
      },
      "execution_count": 37,
      "outputs": [
        {
          "output_type": "stream",
          "name": "stdout",
          "text": [
            "Se demora 64 días\n"
          ]
        }
      ]
    },
    {
      "cell_type": "code",
      "source": [
        "for i in range(1,16):\n",
        "  valida=True\n",
        "  while valida:\n",
        "    calificacion=float(input('Ingrese Calificación %i:' %(i)))\n",
        "    if calificacion<0 or calificacion>5:\n",
        "      print('Error reingrese Calificación')\n",
        "    else:\n",
        "      valida=False\n"
      ],
      "metadata": {
        "colab": {
          "base_uri": "https://localhost:8080/"
        },
        "id": "1Bajo-EZ0t1x",
        "outputId": "eefbbf10-c8de-4016-b50f-241f12f4354f"
      },
      "execution_count": 40,
      "outputs": [
        {
          "name": "stdout",
          "output_type": "stream",
          "text": [
            "Ingrese Calificación 1:4\n",
            "Ingrese Calificación 2:7\n",
            "Error reingrese Calificación\n",
            "Ingrese Calificación 2:5\n",
            "Ingrese Calificación 3:-1\n",
            "Error reingrese Calificación\n",
            "Ingrese Calificación 3:5\n",
            "Ingrese Calificación 4:8\n",
            "Error reingrese Calificación\n",
            "Ingrese Calificación 4:6\n",
            "Error reingrese Calificación\n",
            "Ingrese Calificación 4:4\n",
            "Ingrese Calificación 5:3\n",
            "Ingrese Calificación 6:4\n",
            "Ingrese Calificación 7:4\n",
            "Ingrese Calificación 8:7\n",
            "Error reingrese Calificación\n",
            "Ingrese Calificación 8:5\n",
            "Ingrese Calificación 9:2\n",
            "Ingrese Calificación 10:1\n",
            "Ingrese Calificación 11:0\n",
            "Ingrese Calificación 12:5\n",
            "Ingrese Calificación 13:3\n",
            "Ingrese Calificación 14:6\n",
            "Error reingrese Calificación\n",
            "Ingrese Calificación 14:3\n",
            "Ingrese Calificación 15:2\n"
          ]
        }
      ]
    },
    {
      "cell_type": "code",
      "source": [
        "comienzo=True\n",
        "contador=0\n",
        "acumula_temperaturas=0.0\n",
        "temperatura=0.0\n",
        "while True:\n",
        "    temperatura=float(input('Ingrese temperatura:'))\n",
        "    if temperatura==-273:\n",
        "        break\n",
        "\n",
        "    acumula_temperaturas+=temperatura\n",
        "    contador+=1\n",
        "if contador>0:\n",
        "    print(acumula_temperaturas)\n",
        "    print(contador)\n",
        "    print(f'La temperatura promedio es: %f' %(acumula_temperaturas/float(contador)))"
      ],
      "metadata": {
        "colab": {
          "base_uri": "https://localhost:8080/"
        },
        "id": "uV6mM2NI7e64",
        "outputId": "35f44a78-e760-4866-92a6-d8ed65086bc0"
      },
      "execution_count": 65,
      "outputs": [
        {
          "output_type": "stream",
          "name": "stdout",
          "text": [
            "Ingrese temperatura:19\n",
            "Ingrese temperatura:21\n",
            "Ingrese temperatura:-273\n",
            "40.0\n",
            "2\n",
            "La temperatura promedio es: 20.000000\n"
          ]
        }
      ]
    },
    {
      "cell_type": "code",
      "source": [
        "numero=int(input('Ingrese número a calcular el factorial:'))\n",
        "contador=1\n",
        "factorial=1\n",
        "while contador<=numero:\n",
        "    factorial*=contador\n",
        "    print(factorial)\n",
        "    contador+=1\n",
        "print('El factorial es: %i' %(factorial))"
      ],
      "metadata": {
        "colab": {
          "base_uri": "https://localhost:8080/"
        },
        "id": "g_yK5MVHJ57Q",
        "outputId": "d5a96121-9463-4679-c395-d2491d951b49"
      },
      "execution_count": 84,
      "outputs": [
        {
          "output_type": "stream",
          "name": "stdout",
          "text": [
            "Ingrese número a calcular el factorial:5\n",
            "1\n",
            "2\n",
            "6\n",
            "24\n",
            "120\n",
            "El factorial es: 120\n"
          ]
        }
      ]
    },
    {
      "cell_type": "code",
      "source": [
        "ntabla=int(input('Ingrese la tabla de desea visualizar:'))\n",
        "for i in range(1,11):\n",
        "  print(f'{ntabla}x{i}={ntabla*i}')"
      ],
      "metadata": {
        "colab": {
          "base_uri": "https://localhost:8080/"
        },
        "id": "d0gATqPru9Sd",
        "outputId": "7108a2ce-148e-4cd0-f476-b6b93c90c6db"
      },
      "execution_count": 85,
      "outputs": [
        {
          "output_type": "stream",
          "name": "stdout",
          "text": [
            "Ingrese la tabla de desea visualizar:2\n",
            "2x1=2\n",
            "2x2=4\n",
            "2x3=6\n",
            "2x4=8\n",
            "2x5=10\n",
            "2x6=12\n",
            "2x7=14\n",
            "2x8=16\n",
            "2x9=18\n",
            "2x10=20\n"
          ]
        }
      ]
    },
    {
      "cell_type": "code",
      "source": [
        "nprimo=int(input('Ingrese número para determinar si primo:'))\n",
        "if nprimo<=2:\n",
        "   print('No es primo')\n",
        "else:\n",
        "  for i in range(2, int(nprimo**0.5) + 1):\n",
        "    if nprimo % i == 0:\n",
        "      print('No es primo')\n",
        "      break\n",
        "  else:\n",
        "    print('Es primo')"
      ],
      "metadata": {
        "colab": {
          "base_uri": "https://localhost:8080/"
        },
        "id": "fdBmoyYVvmwu",
        "outputId": "278ec9f7-6044-434b-9277-28ae29e8338e"
      },
      "execution_count": 177,
      "outputs": [
        {
          "output_type": "stream",
          "name": "stdout",
          "text": [
            "Ingrese número para determinar si primo:2\n",
            "No es primo\n"
          ]
        }
      ]
    },
    {
      "cell_type": "code",
      "source": [
        "nprimo=int(input('Ingrese número para determinar si es primo:'))\n",
        "for k in range(2, nprimo + 1):\n",
        "    es_primo = True\n",
        "    for i in range(2, int(k**0.5) + 1):\n",
        "        if k % i == 0:\n",
        "            es_primo = False\n",
        "            break\n",
        "if es_primo:\n",
        "        print(k,'si es primo')"
      ],
      "metadata": {
        "colab": {
          "base_uri": "https://localhost:8080/"
        },
        "id": "YYvKmbO60Sji",
        "outputId": "6969fe4c-b553-45f5-d248-c193f5d522a4"
      },
      "execution_count": 184,
      "outputs": [
        {
          "output_type": "stream",
          "name": "stdout",
          "text": [
            "Ingrese número para determinar si es primo:2\n",
            "2 si es primo\n"
          ]
        }
      ]
    },
    {
      "cell_type": "markdown",
      "source": [
        "# Estructuras de datos"
      ],
      "metadata": {
        "id": "8noP8OJ0Vhux"
      }
    },
    {
      "cell_type": "code",
      "source": [],
      "metadata": {
        "id": "HVZPdyPnJ5BY"
      },
      "execution_count": null,
      "outputs": []
    },
    {
      "cell_type": "markdown",
      "source": [
        "Un conjunto de elementos es una colección de items, que son almacenados juntos de manera organizada. Algunos ejemplos de conjuntos de elementos en Python son las listas, los strings y los diccionarios."
      ],
      "metadata": {
        "id": "xpEUkefTu8fY"
      }
    },
    {
      "cell_type": "markdown",
      "source": [
        "## Listas"
      ],
      "metadata": {
        "id": "THSg4KYLwxIb"
      }
    },
    {
      "cell_type": "markdown",
      "source": [
        "Las listas pueden almacenar una colección de items en orden. Ellas son delimitadas por corchetes `[]` y sus elementos son separados por comas.\n",
        "\n",
        "Estas pueden almacenar cualquier tipo de items, incluyendo números, strings, objetos, otras listas, entre otros. También nos permiten almacenar items de tipos de datos diferentes juntos en una única lista."
      ],
      "metadata": {
        "id": "dzpsiqrOyJcK"
      }
    },
    {
      "cell_type": "code",
      "source": [
        "lista = ['Penélope Camacho',9.5,9.0,9.7,True]\n",
        "lista"
      ],
      "metadata": {
        "id": "DO3TBj7nAYeG",
        "colab": {
          "base_uri": "https://localhost:8080/"
        },
        "outputId": "fbee2eb5-265e-4b5b-badf-a0dd9331074b"
      },
      "execution_count": null,
      "outputs": [
        {
          "output_type": "execute_result",
          "data": {
            "text/plain": [
              "['Penélope Camacho', 9.5, 9.0, 9.7, True]"
            ]
          },
          "metadata": {},
          "execution_count": 62
        }
      ]
    },
    {
      "cell_type": "code",
      "source": [],
      "metadata": {
        "id": "DO2ubP9N9D_2"
      },
      "execution_count": null,
      "outputs": []
    },
    {
      "cell_type": "markdown",
      "source": [
        "Las listas son organizadas en Python porque **cada elemento de la lista tiene un índice que indica su posición al interior de la lista**. Los índices comienzan en 0 van hasta el tamaño de la lista menos 1."
      ],
      "metadata": {
        "id": "qUz3sJNl6LgK"
      }
    },
    {
      "cell_type": "markdown",
      "source": [
        "Tenemos entonces 5 elementos con índices que varían de 0 a 4, ordenadamente:\n",
        "\n",
        "```\n",
        "#             [0]           [1]   [2]   [3]    [4]\n",
        "lista = ['Penélope Camacho', 9.5 , 9.0 , 9.7 , True]\n",
        "```\n",
        "\n",
        "En Python tenemos también los índices **negativos** que se inician en el último elemento con el valor de `-1` y avanzan en el universo de los negativos hasta llegar al 1° elemento:\n",
        "\n",
        "```\n",
        "#             [-5]         [-4]  [-3]  [-2]   [-1]\n",
        "lista = ['Penélope Camacho', 9.5 , 9.0 , 9.7 , True]\n",
        "```\n",
        "\n",
        "Logramos seleccionar separadamente cada elemento a través de sus respectivos índices. Colocando el nombre de la lista y en seguida el índice que será seleccionado."
      ],
      "metadata": {
        "id": "rLf-Qg526hFD"
      }
    },
    {
      "cell_type": "code",
      "source": [],
      "metadata": {
        "id": "4hco1Zqy88Kw"
      },
      "execution_count": null,
      "outputs": []
    },
    {
      "cell_type": "code",
      "source": [],
      "metadata": {
        "id": "M8lH0I2288Ph"
      },
      "execution_count": null,
      "outputs": []
    },
    {
      "cell_type": "markdown",
      "source": [
        "Una forma más dinámica de trabajar item a item en una lista es utilizando un lazo `for` para leer un elemento a la vez."
      ],
      "metadata": {
        "id": "6TaE1ijmBTCd"
      }
    },
    {
      "cell_type": "code",
      "source": [],
      "metadata": {
        "id": "rBx4Yu1786Sy"
      },
      "execution_count": null,
      "outputs": []
    },
    {
      "cell_type": "markdown",
      "source": [
        "**Situación**: La nota `9.0` de Penélope necesita ser ajustada pues ganó 1 punto en su última nota por participación en clase. Entonces es necesario realizar un cambio en el índice `2` de `9.0` a `10.0`."
      ],
      "metadata": {
        "id": "Dh1_HnIVvucY"
      }
    },
    {
      "cell_type": "code",
      "source": [],
      "metadata": {
        "id": "bVPoZg668z3T"
      },
      "execution_count": null,
      "outputs": []
    },
    {
      "cell_type": "code",
      "source": [],
      "metadata": {
        "id": "Jo_PBQ0g8z7D"
      },
      "execution_count": null,
      "outputs": []
    },
    {
      "cell_type": "markdown",
      "source": [
        "También podemos calcular el promedio del estudiante a partir de los datos que tenemos."
      ],
      "metadata": {
        "id": "53XduzXkycAf"
      }
    },
    {
      "cell_type": "code",
      "source": [],
      "metadata": {
        "id": "SIH61Rrb8yv4"
      },
      "execution_count": null,
      "outputs": []
    },
    {
      "cell_type": "markdown",
      "source": [
        "## Manipulación de listas\n",
        "\n",
        "Las listas son muy útiles en Python porque nos permiten almacenar y acceder a una colección de items de manera organizada y rápida. Estas también ofrecen muchos métodos útiles para manipular los itens almacenados, como adicionar, remover, clasificar y buscar elementos."
      ],
      "metadata": {
        "id": "d-iYr10-y4qw"
      }
    },
    {
      "cell_type": "markdown",
      "source": [
        "#### Cantidad de elementos\n",
        "\n",
        "Usamos la función [`len()`](https://docs.python.org/3/library/functions.html#len) para descubrir la cantidad de elementos de un conjunto."
      ],
      "metadata": {
        "id": "ZLqx9A97XVB_"
      }
    },
    {
      "cell_type": "code",
      "source": [
        "lista=[\"prueba1\",\"prueba2\",\"prueba3\",4,5,6,7]\n",
        "len(lista)\n"
      ],
      "metadata": {
        "id": "6q1Tmm7P8wQf",
        "colab": {
          "base_uri": "https://localhost:8080/"
        },
        "outputId": "c3bda066-18fc-4560-b701-8b434c283fdc"
      },
      "execution_count": 91,
      "outputs": [
        {
          "output_type": "execute_result",
          "data": {
            "text/plain": [
              "7"
            ]
          },
          "metadata": {},
          "execution_count": 91
        }
      ]
    },
    {
      "cell_type": "markdown",
      "source": [
        "#### Partición\n",
        "\n",
        "La partición de listas por indexación en Python es una técnica muy útil para seleccionar un subconjunto de elementos de una lista. Esta se realiza usando la sintaxis `lista[inicio:fin]`, donde `inicio` es el índice del primer elemento que será incluído en la partición `fin` es el índice del primer elemento que será excluído de la partición."
      ],
      "metadata": {
        "id": "Z5tpstlHJss3"
      }
    },
    {
      "cell_type": "code",
      "source": [
        "lista[0:7]"
      ],
      "metadata": {
        "id": "NctvJTTU8uV9",
        "colab": {
          "base_uri": "https://localhost:8080/"
        },
        "outputId": "9cd35616-cc35-4074-e56a-3aac1acd1cef"
      },
      "execution_count": 94,
      "outputs": [
        {
          "output_type": "execute_result",
          "data": {
            "text/plain": [
              "['prueba1', 'prueba2', 'prueba3', 4, 5, 6, 7]"
            ]
          },
          "metadata": {},
          "execution_count": 94
        }
      ]
    },
    {
      "cell_type": "code",
      "source": [
        "lista[6:]"
      ],
      "metadata": {
        "id": "bQZUwldj8uY2",
        "colab": {
          "base_uri": "https://localhost:8080/"
        },
        "outputId": "c8b9eec8-b6df-4da3-e40e-e709e1f8ff67"
      },
      "execution_count": 95,
      "outputs": [
        {
          "output_type": "execute_result",
          "data": {
            "text/plain": [
              "[7]"
            ]
          },
          "metadata": {},
          "execution_count": 95
        }
      ]
    },
    {
      "cell_type": "markdown",
      "source": [
        "#### [`append()`](https://docs.python.org/3/tutorial/datastructures.html#:~:text=of%20list%20objects%3A-,list.append(x),-Add%20an%20item)\n",
        "\n",
        "Añade un elemento al final de la lista."
      ],
      "metadata": {
        "id": "O0RRyabkRzZC"
      }
    },
    {
      "cell_type": "code",
      "source": [
        "lista.append(8\n",
        "             )\n",
        "lista\n"
      ],
      "metadata": {
        "id": "_Q0oODwa8spC",
        "colab": {
          "base_uri": "https://localhost:8080/"
        },
        "outputId": "740d8990-c882-4665-c78a-524f50d7c26b"
      },
      "execution_count": 97,
      "outputs": [
        {
          "output_type": "execute_result",
          "data": {
            "text/plain": [
              "['prueba1', 'prueba2', 'prueba3', 4, 5, 6, 7, 8, 8]"
            ]
          },
          "metadata": {},
          "execution_count": 97
        }
      ]
    },
    {
      "cell_type": "code",
      "source": [
        "lista[8]=9\n",
        "lista"
      ],
      "metadata": {
        "colab": {
          "base_uri": "https://localhost:8080/"
        },
        "id": "IUjM4KmI_QkK",
        "outputId": "3f011d90-c7c0-4bd4-d185-c7c4f1ed20de"
      },
      "execution_count": 100,
      "outputs": [
        {
          "output_type": "execute_result",
          "data": {
            "text/plain": [
              "['prueba1', 'prueba2', 'prueba3', 4, 5, 6, 7, 8, 9, 10.0, 8.0, 9.0]"
            ]
          },
          "metadata": {},
          "execution_count": 100
        }
      ]
    },
    {
      "cell_type": "markdown",
      "source": [
        "#### [`extend()`](https://docs.python.org/3/tutorial/datastructures.html#:~:text=list.extend(iterable))\n",
        "\n",
        "Añade varios elementos al final de la lista.\n",
        "\n",
        "Añadiremos las notas `[10.0,8.0,9.0]` En la lista de Penélope Camacho."
      ],
      "metadata": {
        "id": "uQV91XMsUOJD"
      }
    },
    {
      "cell_type": "code",
      "source": [
        "lista.extend([10.0,8.0,9.0])\n",
        "lista"
      ],
      "metadata": {
        "id": "6Zk2MpMw8rQc",
        "colab": {
          "base_uri": "https://localhost:8080/"
        },
        "outputId": "3dd0b55e-f78c-4aa4-ed00-3fe3c64aa14d"
      },
      "execution_count": 99,
      "outputs": [
        {
          "output_type": "execute_result",
          "data": {
            "text/plain": [
              "['prueba1', 'prueba2', 'prueba3', 4, 5, 6, 7, 8, 8, 10.0, 8.0, 9.0]"
            ]
          },
          "metadata": {},
          "execution_count": 99
        }
      ]
    },
    {
      "cell_type": "markdown",
      "source": [
        "*A continuación te mostraremos lo que no puede realizarse con* `append`."
      ],
      "metadata": {
        "id": "IVJvkTwNUk6M"
      }
    },
    {
      "cell_type": "markdown",
      "source": [
        "#### [`remove()`](https://docs.python.org/3/tutorial/datastructures.html#:~:text=append(x).-,list.remove(x),-Remove%20the%20first)\n",
        "\n",
        "Remueve un elemento específico de la lista."
      ],
      "metadata": {
        "id": "dPGM5gpyUX1z"
      }
    },
    {
      "cell_type": "code",
      "source": [
        "lista.remove(8)\n",
        "lista"
      ],
      "metadata": {
        "id": "mmboODPc8nd5",
        "colab": {
          "base_uri": "https://localhost:8080/"
        },
        "outputId": "31d87774-af6f-435b-9a71-96bb70d19fa5"
      },
      "execution_count": 101,
      "outputs": [
        {
          "output_type": "execute_result",
          "data": {
            "text/plain": [
              "['prueba1', 'prueba2', 'prueba3', 4, 5, 6, 7, 9, 10.0, 8.0, 9.0]"
            ]
          },
          "metadata": {},
          "execution_count": 101
        }
      ]
    },
    {
      "cell_type": "code",
      "source": [
        "lista.insert(8,8)\n",
        "lista"
      ],
      "metadata": {
        "id": "T_w6vVgV8nh_",
        "colab": {
          "base_uri": "https://localhost:8080/"
        },
        "outputId": "e6669484-e026-4887-a934-9b82339f564c"
      },
      "execution_count": 102,
      "outputs": [
        {
          "output_type": "execute_result",
          "data": {
            "text/plain": [
              "['prueba1', 'prueba2', 'prueba3', 4, 5, 6, 7, 9, 8, 10.0, 8.0, 9.0]"
            ]
          },
          "metadata": {},
          "execution_count": 102
        }
      ]
    },
    {
      "cell_type": "markdown",
      "source": [
        "## Diccionario"
      ],
      "metadata": {
        "id": "Rc22Vc08YDZ2"
      }
    },
    {
      "cell_type": "markdown",
      "source": [
        "Los diccionarios son un tipo de estructura de datos que almacenan pares de *llave-valor*. Estos son delimitados por llaves `{}` y los pares *llave-valor* son separados por comas.\n",
        "\n",
        "```\n",
        "diccionario = {llave: valor}\n",
        "```\n",
        "\n",
        "La **llave** es un elemento único que identifica a un valor en el diccionario, mientras que el **valor** es el item que será almacenado para la llave. Las llaves y sus respectivos valores se pueden emplear para **cualquier tipo de dato**.\n",
        "\n",
        "Los diccionarios son útiles para almacenar y acceder a los datos de manera organizada y rápida. Se trata de un tipo de conjunto de elementos en Python, pues almacenan una colección de items."
      ],
      "metadata": {
        "id": "PJ-cCKPjeWxL"
      }
    },
    {
      "cell_type": "code",
      "source": [
        "registro={'Nombre':'Juan Gonzalez','nota':9.0,'aprobado':True}\n",
        "registro"
      ],
      "metadata": {
        "id": "NDHhzooE8ld5",
        "colab": {
          "base_uri": "https://localhost:8080/"
        },
        "outputId": "aec98622-c8c3-4bff-e7fe-7f46a8ad0e7d"
      },
      "execution_count": 108,
      "outputs": [
        {
          "output_type": "execute_result",
          "data": {
            "text/plain": [
              "{'Nombre': 'Juan Gonzalez', 'nota': 9.0, 'aprobado': True}"
            ]
          },
          "metadata": {},
          "execution_count": 108
        }
      ]
    },
    {
      "cell_type": "code",
      "source": [],
      "metadata": {
        "id": "AVOzqzy-8lhh"
      },
      "execution_count": null,
      "outputs": []
    },
    {
      "cell_type": "markdown",
      "source": [
        "---\n",
        "**Situación:**\n",
        "\n",
        "Vamos a crear un conjunto de datos con las informaciones de matrícula de un estudiante. Los datos son los siguientes:\n",
        "\n",
        "- matrícula: 2000168933\n",
        "- día de registro: 25\n",
        "- mes de registro: 10\n",
        "- grupo: 2E"
      ],
      "metadata": {
        "id": "_JbQ3KMKfkXU"
      }
    },
    {
      "cell_type": "code",
      "source": [
        "registro={'matricula':2000168933,'dia':25,'mes':10,'grupo':'2E'}\n",
        "registro"
      ],
      "metadata": {
        "id": "0lfOu_c38jED",
        "colab": {
          "base_uri": "https://localhost:8080/"
        },
        "outputId": "8c0b3876-569c-4c32-8e44-d1723563f51a"
      },
      "execution_count": 110,
      "outputs": [
        {
          "output_type": "execute_result",
          "data": {
            "text/plain": [
              "{'matricula': 2000168933, 'dia': 25, 'mes': 10, 'grupo': '2E'}"
            ]
          },
          "metadata": {},
          "execution_count": 110
        }
      ]
    },
    {
      "cell_type": "code",
      "source": [],
      "metadata": {
        "id": "XIuqpTTy8jHV"
      },
      "execution_count": null,
      "outputs": []
    },
    {
      "cell_type": "markdown",
      "source": [
        "Es posible sustituir los valores dentro de una llave. Por ejemplo, recibimos la información de que el grupo del estudiante que registramos cambio a `'2G'` y ahora necesitamos cambiar el valor de la llave `'grupo'`."
      ],
      "metadata": {
        "id": "8ex5pt2ykDd2"
      }
    },
    {
      "cell_type": "code",
      "source": [
        "registro['grupo']='2G'\n",
        "registro"
      ],
      "metadata": {
        "id": "kQGlp36b8fyP",
        "colab": {
          "base_uri": "https://localhost:8080/"
        },
        "outputId": "a2a061a6-757f-4104-f0c0-87f78b507eb3"
      },
      "execution_count": 113,
      "outputs": [
        {
          "output_type": "execute_result",
          "data": {
            "text/plain": [
              "{'matricula': 2000168933,\n",
              " 'dia': 25,\n",
              " 'mes': 10,\n",
              " 'grupo': '2G',\n",
              " ('grupo', '2E'): '2G'}"
            ]
          },
          "metadata": {},
          "execution_count": 113
        }
      ]
    },
    {
      "cell_type": "code",
      "source": [
        "registro\n",
        "\n"
      ],
      "metadata": {
        "id": "DnfH_qHi8f17",
        "colab": {
          "base_uri": "https://localhost:8080/"
        },
        "outputId": "5b64c4aa-aa37-4966-cc28-025098c01120"
      },
      "execution_count": 121,
      "outputs": [
        {
          "output_type": "execute_result",
          "data": {
            "text/plain": [
              "{'matricula': 2000168933, 'dia': 25, 'mes': 10, 'grupo': '2G'}"
            ]
          },
          "metadata": {},
          "execution_count": 121
        }
      ]
    },
    {
      "cell_type": "markdown",
      "source": [
        "También podemos añadir otros datos al diccionario. Vamos a añadir la información sobre la modalidad de estudio, nuestro estudiante estudiará inicialemente en la modalidad EAD.\n",
        "\n",
        "Definiremos una llave llamada `'modalidad'` con el valor `'EAD'`."
      ],
      "metadata": {
        "id": "wB0qRb56mQvv"
      }
    },
    {
      "cell_type": "code",
      "source": [
        "registro = {'modalidad':'EAD'}\n",
        "registro"
      ],
      "metadata": {
        "id": "EeLYdlIm8d8a",
        "colab": {
          "base_uri": "https://localhost:8080/"
        },
        "outputId": "30a2bb3d-5b95-4478-c556-871ed6bd6436"
      },
      "execution_count": 126,
      "outputs": [
        {
          "output_type": "execute_result",
          "data": {
            "text/plain": [
              "{'modalidad': 'EAD'}"
            ]
          },
          "metadata": {},
          "execution_count": 126
        }
      ]
    },
    {
      "cell_type": "code",
      "source": [
        "registro"
      ],
      "metadata": {
        "id": "olDIavsm8d_o",
        "colab": {
          "base_uri": "https://localhost:8080/"
        },
        "outputId": "6bbd0b4f-9aeb-4d41-f8c5-f0ae77e39f8e"
      },
      "execution_count": 127,
      "outputs": [
        {
          "output_type": "execute_result",
          "data": {
            "text/plain": [
              "{'modalidad': 'EAD'}"
            ]
          },
          "metadata": {},
          "execution_count": 127
        }
      ]
    },
    {
      "cell_type": "markdown",
      "source": [
        "## Profundizando en diccionarios"
      ],
      "metadata": {
        "id": "LJ3o_inroxg_"
      }
    },
    {
      "cell_type": "markdown",
      "source": [
        "#### [`pop()`](https://python-reference.readthedocs.io/en/latest/docs/dict/pop.html)\n",
        "Remueve un item de un diccionario y lo representa en la salida."
      ],
      "metadata": {
        "id": "2N3GLlkSpBiu"
      }
    },
    {
      "cell_type": "code",
      "source": [],
      "metadata": {
        "id": "ZsSCZx6G8b-T"
      },
      "execution_count": null,
      "outputs": []
    },
    {
      "cell_type": "code",
      "source": [],
      "metadata": {
        "id": "7lQ8_jpi8cBR"
      },
      "execution_count": null,
      "outputs": []
    },
    {
      "cell_type": "markdown",
      "source": [
        "#### [`items()`](https://python-reference.readthedocs.io/en/latest/docs/dict/items.html)\n",
        "Retorna una lista de pares `llave-valor` del diccionario."
      ],
      "metadata": {
        "id": "sYZGvJJYrW_y"
      }
    },
    {
      "cell_type": "code",
      "source": [],
      "metadata": {
        "id": "ncdycLV08an7"
      },
      "execution_count": null,
      "outputs": []
    },
    {
      "cell_type": "markdown",
      "source": [
        "#### [`keys()`](https://python-reference.readthedocs.io/en/latest/docs/dict/keys.html)\n",
        "Retorna una lista de las llaves del diccionario."
      ],
      "metadata": {
        "id": "Lb0utNFGrZBY"
      }
    },
    {
      "cell_type": "code",
      "source": [],
      "metadata": {
        "id": "eZo0biaM8ZVs"
      },
      "execution_count": null,
      "outputs": []
    },
    {
      "cell_type": "markdown",
      "source": [
        "#### [`values()`](https://python-reference.readthedocs.io/en/latest/docs/dict/values.html)\n",
        "Retorna una lista de los valores del diccionario."
      ],
      "metadata": {
        "id": "qKyu3bf9rbtX"
      }
    },
    {
      "cell_type": "code",
      "source": [],
      "metadata": {
        "id": "-NxRT9C18Yvo"
      },
      "execution_count": null,
      "outputs": []
    },
    {
      "cell_type": "markdown",
      "source": [
        "### Lectura de valores con el lazo `for`"
      ],
      "metadata": {
        "id": "e3XVjR8Frp75"
      }
    },
    {
      "cell_type": "code",
      "source": [],
      "metadata": {
        "id": "NYcjU-Ip8Xan"
      },
      "execution_count": null,
      "outputs": []
    },
    {
      "cell_type": "code",
      "source": [],
      "metadata": {
        "id": "aAnpP1Wv8XfJ"
      },
      "execution_count": null,
      "outputs": []
    },
    {
      "cell_type": "code",
      "source": [
        "gastos=[2172.54, 3701.35, 3518.09, 3456.61, 3249.38, 2840.82, 3891.45, 3075.26, 2317.64, 3219.08]\n",
        "gastos"
      ],
      "metadata": {
        "colab": {
          "base_uri": "https://localhost:8080/"
        },
        "id": "P7lG-ysqFvYO",
        "outputId": "23439a33-baa3-4d4d-b1be-f8973452c49a"
      },
      "execution_count": 129,
      "outputs": [
        {
          "output_type": "execute_result",
          "data": {
            "text/plain": [
              "[2172.54,\n",
              " 3701.35,\n",
              " 3518.09,\n",
              " 3456.61,\n",
              " 3249.38,\n",
              " 2840.82,\n",
              " 3891.45,\n",
              " 3075.26,\n",
              " 2317.64,\n",
              " 3219.08]"
            ]
          },
          "metadata": {},
          "execution_count": 129
        }
      ]
    },
    {
      "cell_type": "code",
      "source": [
        "print('El promedio de gastos es de: %f' %((sum(gastos)/len(gastos))))"
      ],
      "metadata": {
        "colab": {
          "base_uri": "https://localhost:8080/"
        },
        "id": "MI2lOjPWF3b6",
        "outputId": "bb7c4203-619e-41db-bba7-f66a561befb1"
      },
      "execution_count": 132,
      "outputs": [
        {
          "output_type": "stream",
          "name": "stdout",
          "text": [
            "El promedio de gastos es de: 3144.222000\n"
          ]
        }
      ]
    },
    {
      "cell_type": "code",
      "source": [
        "ncompras=0\n",
        "i=0\n",
        "for i in range(0,len(gastos)):\n",
        "    if float(gastos[i])>3000:\n",
        "        ncompras+=1\n",
        "print('El número de compras superiores a 3000 son un:  %i' %((ncompras*100)/len(gastos)) + '%')\n",
        "\n"
      ],
      "metadata": {
        "colab": {
          "base_uri": "https://localhost:8080/"
        },
        "id": "7PUekUS6G_LE",
        "outputId": "da036314-9737-4260-da5a-21d4a7e2ed6a"
      },
      "execution_count": 153,
      "outputs": [
        {
          "output_type": "stream",
          "name": "stdout",
          "text": [
            "El número de compras superiores a 3000 son un:  70%\n"
          ]
        }
      ]
    },
    {
      "cell_type": "code",
      "source": [
        "lista={}\n",
        "for i in range(0,4):\n",
        "    lista[i]=int(input('Ingrese número:'))\n",
        "print(lista)\n"
      ],
      "metadata": {
        "colab": {
          "base_uri": "https://localhost:8080/"
        },
        "id": "bINJK-HSI1nu",
        "outputId": "1e0010ee-1f74-4859-dcaa-a3f6f732ffe7"
      },
      "execution_count": 154,
      "outputs": [
        {
          "output_type": "stream",
          "name": "stdout",
          "text": [
            "Ingrese número:2\n",
            "Ingrese número:3\n",
            "Ingrese número:5\n",
            "Ingrese número:1\n",
            "{0: 2, 1: 3, 2: 5, 3: 1}\n"
          ]
        }
      ]
    },
    {
      "cell_type": "code",
      "source": [
        "import random\n",
        "lista={}\n",
        "for i in range(0,4):\n",
        "    lista[i]=random.randint(1,20)\n",
        "print(lista)"
      ],
      "metadata": {
        "colab": {
          "base_uri": "https://localhost:8080/"
        },
        "id": "_Jj1kZLsL3-A",
        "outputId": "21105948-3ea1-4c5b-9b9f-ccac2866cc87"
      },
      "execution_count": 160,
      "outputs": [
        {
          "output_type": "stream",
          "name": "stdout",
          "text": [
            "{0: 15, 1: 15, 2: 4, 3: 1}\n"
          ]
        }
      ]
    },
    {
      "cell_type": "code",
      "source": [
        "import random\n",
        "lista={}\n",
        "for i in range(0,4):\n",
        "    lista[i]=random.randint(1,20)\n",
        "print(sorted(lista,reverse=True))"
      ],
      "metadata": {
        "colab": {
          "base_uri": "https://localhost:8080/"
        },
        "id": "tfLwOsdWNq1F",
        "outputId": "ec1f2132-e19b-4002-f870-0a5fbcbcc3dc"
      },
      "execution_count": 163,
      "outputs": [
        {
          "output_type": "stream",
          "name": "stdout",
          "text": [
            "[3, 2, 1, 0]\n"
          ]
        }
      ]
    },
    {
      "cell_type": "code",
      "source": [
        "nprimo = int(input(\"Ingrese un número para listar todos los números primos entre 1 y el número ingresado: \"))\n",
        "print(\"Lista de números primos:\")\n",
        "\n",
        "for k in range(2, nprimo + 1):\n",
        "    es_primo = True\n",
        "    for i in range(2, int(k**0.5) + 1):\n",
        "        if k % i == 0:\n",
        "            es_primo = False\n",
        "            break\n",
        "    if es_primo:\n",
        "        print(k,'Si es primo')"
      ],
      "metadata": {
        "colab": {
          "base_uri": "https://localhost:8080/"
        },
        "id": "p2A7IfmEO2oB",
        "outputId": "dfddb7c0-d221-4dc3-84cc-c963771b095f"
      },
      "execution_count": 185,
      "outputs": [
        {
          "output_type": "stream",
          "name": "stdout",
          "text": [
            "Ingrese un número para listar todos los números primos entre 1 y el número ingresado: 11\n",
            "Lista de números primos:\n",
            "2 Si es primo\n",
            "3 Si es primo\n",
            "5 Si es primo\n",
            "7 Si es primo\n",
            "11 Si es primo\n"
          ]
        }
      ]
    },
    {
      "cell_type": "code",
      "source": [],
      "metadata": {
        "id": "qUvyLcbeenUC",
        "outputId": "66289d82-a60b-4898-fb55-2b458e2e3d54",
        "colab": {
          "base_uri": "https://localhost:8080/"
        }
      },
      "execution_count": 186,
      "outputs": [
        {
          "output_type": "stream",
          "name": "stdout",
          "text": [
            "Ingrese una fecha en formato dd/mm/aaaa: 29/02/2025\n",
            "Día: 29\n",
            "Mes: 02\n",
            "Año: 2025\n"
          ]
        }
      ]
    }
  ]
}